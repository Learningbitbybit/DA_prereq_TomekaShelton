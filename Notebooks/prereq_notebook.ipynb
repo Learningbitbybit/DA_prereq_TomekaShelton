{
 "cells": [
  {
   "cell_type": "code",
   "execution_count": null,
   "id": "df8b7da7",
   "metadata": {
    "vscode": {
     "languageId": "plaintext"
    }
   },
   "outputs": [],
   "source": [
    "print(\"You're doing better than you think. Keep going!\")\n",
    "\n"
   ]
  },
  {
   "cell_type": "markdown",
   "id": "84ba6113",
   "metadata": {},
   "source": [
    "Hello! My name is Tomeka Shelton-Johnson. I'm excited to learn Python and SQL. I currently work in HR and learning Data Analytics will help me make data driven decisions in my work. When learning new skills I can be very analytical yet literal. I may not catch nuance until I begin to be comfortable with the new skill. So I may ask questions about what seems to be evident. Sorry, it's my process thinking! But it helps when I'm conducting training or creating curriculum lol.."
   ]
  }
 ],
 "metadata": {
  "language_info": {
   "name": "python"
  }
 },
 "nbformat": 4,
 "nbformat_minor": 5
}
